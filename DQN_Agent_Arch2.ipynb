{
 "cells": [
  {
   "cell_type": "markdown",
   "metadata": {},
   "source": [
    "### Cab-Driver Agent"
   ]
  },
  {
   "cell_type": "code",
   "execution_count": 1,
   "metadata": {},
   "outputs": [
    {
     "name": "stdout",
     "output_type": "stream",
     "text": [
      "INFO:tensorflow:Enabling eager execution\n",
      "INFO:tensorflow:Enabling v2 tensorshape\n",
      "INFO:tensorflow:Enabling resource variables\n",
      "INFO:tensorflow:Enabling tensor equality\n",
      "INFO:tensorflow:Enabling control flow v2\n"
     ]
    }
   ],
   "source": [
    "# Importing libraries\r\n",
    "import numpy as np\r\n",
    "import random\r\n",
    "import math\r\n",
    "from collections import deque\r\n",
    "import collections\r\n",
    "import pickle\r\n",
    "\r\n",
    "# for building DQN model\r\n",
    "from keras import layers\r\n",
    "from keras import Sequential\r\n",
    "from keras.layers import Dense, Activation, Flatten\r\n",
    "from keras.optimizers import Adam\r\n",
    "\r\n",
    "# for plotting graphs\r\n",
    "import matplotlib.pyplot as plt\r\n",
    "\r\n",
    "# Import the environment\r\n",
    "from Env import CabDriver"
   ]
  },
  {
   "cell_type": "markdown",
   "metadata": {},
   "source": [
    "#### Defining Time Matrix"
   ]
  },
  {
   "cell_type": "code",
   "execution_count": 2,
   "metadata": {},
   "outputs": [],
   "source": [
    "# Loading the time matrix provided\r\n",
    "Time_matrix = np.load(\"TM.npy\")\r\n",
    "env = CabDriver()\r\n",
    "epsiode_length = 24*30"
   ]
  },
  {
   "cell_type": "markdown",
   "metadata": {},
   "source": [
    "#### Tracking the state-action pairs for checking convergence\n"
   ]
  },
  {
   "cell_type": "code",
   "execution_count": 3,
   "metadata": {},
   "outputs": [],
   "source": [
    "#Defining a function to save the Q-dictionary as a pickle file\n",
    "def save_obj(obj, name ):\n",
    "    with open(name + '.pkl', 'wb') as f:\n",
    "        pickle.dump(obj, f, pickle.HIGHEST_PROTOCOL)"
   ]
  },
  {
   "cell_type": "markdown",
   "metadata": {},
   "source": [
    "### Agent Class\n",
    "\n",
    "If you are using this framework, you need to fill the following to complete the following code block:\n",
    "1. State and Action Size\n",
    "2. Hyperparameters\n",
    "3. Create a neural-network model in function 'build_model()'\n",
    "4. Define epsilon-greedy strategy in function 'get_action()'\n",
    "5. Complete the function 'append_sample()'. This function appends the recent experience tuple <state, action, reward, new-state> to the memory\n",
    "6. Complete the 'train_model()' function with following logic:\n",
    "   - If the memory size is greater than mini-batch size, you randomly sample experiences from memory as per the mini-batch size and do the following:\n",
    "      - Initialise your input and output batch for training the model\n",
    "      - Calculate the target Q value for each sample: reward + gamma*max(Q(s'a,))\n",
    "      - Get Q(s', a) values from the last trained model\n",
    "      - Update the input batch as your encoded state-action and output batch as your Q-values\n",
    "      - Then fit your DQN model using the updated input and output batch."
   ]
  },
  {
   "cell_type": "code",
   "execution_count": 4,
   "metadata": {},
   "outputs": [],
   "source": [
    "class DQNAgent:\r\n",
    "    \r\n",
    "    def __init__(self, state_size, action_size, discount_factor=0.95, learning_rate=0.01,\r\n",
    "                       epsilon=1, epsilon_decay=0.99, epsilon_min=0.01):\r\n",
    "        # Define size of state and action\r\n",
    "        self.state_size = state_size\r\n",
    "        self.action_size = action_size + 1 # +1 for the no_idle\r\n",
    "        self.discount_factor = discount_factor\r\n",
    "        self.epsilon = 1.0\r\n",
    "        self.learning_rate = learning_rate      \r\n",
    "        self.epsilon_max = epsilon\r\n",
    "        self.epsilon_decay = epsilon_decay \r\n",
    "        self.epsilon_min = epsilon_min\r\n",
    "        self.batch_size = 32     \r\n",
    "        self.state_encoded = 36 # (m + t + d)\r\n",
    "        # create replay memory using deque\r\n",
    "        self.memory = deque(maxlen=2000)\r\n",
    "        # create main model and target model\r\n",
    "        self.model = self.build_model()\r\n",
    "\r\n",
    "\r\n",
    "    # approximate Q function using Neural Network\r\n",
    "    def build_model(self):\r\n",
    "        model = Sequential()\r\n",
    "        model.add(Dense(32, input_dim=self.state_encoded, activation='relu', kernel_initializer='he_uniform'))\r\n",
    "        model.add(Dense(32, activation='relu', kernel_initializer='he_uniform'))\r\n",
    "        model.add(Dense(self.action_size, activation='relu', kernel_initializer='he_uniform'))\r\n",
    "        # model.summary()\r\n",
    "        model.compile(loss='mse',optimizer=Adam(learning_rate=self.learning_rate))\r\n",
    "        return model\r\n",
    "\r\n",
    "\r\n",
    "    def get_action(self, state):\r\n",
    "        \"\"\"\r\n",
    "        get action in a state according to an epsilon-greedy approach\r\n",
    "        \"\"\"\r\n",
    "        indexes, actions = env.requests(state)\r\n",
    "        # print(f'indexes: {indexes}, actions : {actions}')\r\n",
    "        if np.random.rand() <= self.epsilon:\r\n",
    "            # get possible requests/actions given a state\r\n",
    "            # choose an action randomly, this will contain the no-ride action\r\n",
    "            return random.choice(actions)\r\n",
    "        else:\r\n",
    "            # get q_value for all actions = this should be 21 (20 actions + no ride)\r\n",
    "            state_encoded = env.state_encod_arch2(state)\r\n",
    "            state_encoded = np.reshape(state_encoded, [1, self.state_encoded])\r\n",
    "            q_value = self.model.predict(state_encoded)\r\n",
    "            # print(f'q_value..{q_value}')\r\n",
    "            # get q_values for the actions/requests which the cab driver received\r\n",
    "            # the index should include the index for no-ride\r\n",
    "            filtered_q_values = [q_value[0][i] for i in [indexes]]\r\n",
    "            # print(f'filtered_q_value..{filtered_q_values}')\r\n",
    "            # get the index with max q-value\r\n",
    "            max_q_value_index = np.argmax(filtered_q_values)\r\n",
    "            # print(f'max_q_value_index..{max_q_value_index}')\r\n",
    "            return actions[max_q_value_index]\r\n",
    "        \r\n",
    "\r\n",
    "    def append_sample(self, state, action, reward, next_state, hours_of_trip):\r\n",
    "        # append the tuple (s, a, r, s', done) to memory (replay buffer) after every action\r\n",
    "        self.memory.append((state, action, reward, next_state, hours_of_trip))\r\n",
    "\r\n",
    "        # Decay in ε after we generate each sample from the environment\r\n",
    "        if self.epsilon > self.epsilon_min:\r\n",
    "            self.epsilon *= self.epsilon_decay\r\n",
    "    \r\n",
    "\r\n",
    "    # pick samples randomly from replay memory (with batch_size) and train the network\r\n",
    "    def train_model(self):\r\n",
    "\r\n",
    "        if len(self.memory) > self.batch_size:\r\n",
    "            # Sample batch from the memory\r\n",
    "            mini_batch = random.sample(self.memory, self.batch_size)\r\n",
    "            update_output = np.zeros((self.batch_size, self.state_encoded))\r\n",
    "            update_input = np.zeros((self.batch_size, self.state_encoded))\r\n",
    "            action, rewards, trip_hours_per_exp = [], [], []\r\n",
    "            \r\n",
    "            for i in range(self.batch_size):\r\n",
    "                state, action, reward, next_state, hours_of_trip = mini_batch[i]\r\n",
    "                state_encod = env.state_encod_arch2(state)\r\n",
    "                next_state_encod = env.state_encod_arch2(next_state)\r\n",
    "                update_input[i] = state_encod\r\n",
    "                update_output[i] = next_state_encod\r\n",
    "                rewards.append(reward)\r\n",
    "                trip_hours_per_exp.append(hours_of_trip)\r\n",
    "                \r\n",
    "            # Write your code from here\r\n",
    "            # 1. Predict the target from earlier model\r\n",
    "            target = self.model.predict(update_input)   \r\n",
    "                \r\n",
    "            # 2. Get the target for the Q-network\r\n",
    "            target_qval = self.model.predict(update_output)\r\n",
    "\r\n",
    "            for i in range(self.batch_size):\r\n",
    "                # find if it is the terminal state\r\n",
    "                if (trip_hours_per_exp[i] >= epsiode_length):\r\n",
    "                    # if it is the terminal state (i.e. if it is the end of the month) then the target q value is just the reward\r\n",
    "                    target[i] = rewards[i]\r\n",
    "                else:\r\n",
    "                    # if it is not terminal state then the target value = reward + discount * (max(q(next_state, a)))\r\n",
    "                    target[i] = rewards[i] + self.discount_factor * (np.amax(target_qval[i]))\r\n",
    "\r\n",
    "            #3. Update your 'update_output' and 'update_input' batch. Be careful to use the encoded state-action pair\r\n",
    "            self.model.fit(update_input, target, batch_size=self.batch_size, epochs=1, verbose=0)\r\n",
    "                \r\n",
    "                \r\n",
    "        # 4. Fit your model and track the loss values\r\n",
    "\r\n",
    "    def save(self, name):\r\n",
    "        self.model.save_weights(name)"
   ]
  },
  {
   "cell_type": "code",
   "execution_count": 5,
   "metadata": {},
   "outputs": [
    {
     "name": "stdout",
     "output_type": "stream",
     "text": [
      "(4, 8, 1)\n",
      "(3, 4)\n"
     ]
    }
   ],
   "source": [
    "# Testing code. \r\n",
    "state_size = len(env.state_space)\r\n",
    "action_size = len(env.action_space) + 1 # for no-ride\r\n",
    "agent = DQNAgent(state_size, action_size)\r\n",
    "state = env.state_init\r\n",
    "print(state)\r\n",
    "action = agent.get_action(state)\r\n",
    "print(action)\r\n",
    "state, action, reward, next_state, trip_hours = env.step(state, action, Time_matrix, 0)\r\n",
    "# print(state, action, reward, next_state, trip_hours)"
   ]
  },
  {
   "cell_type": "code",
   "execution_count": 6,
   "metadata": {},
   "outputs": [],
   "source": [
    "Episodes = 10\r\n",
    "state_size = len(env.state_space)\r\n",
    "action_size = len(env.action_space) + 1 # for no-ride"
   ]
  },
  {
   "cell_type": "markdown",
   "metadata": {},
   "source": [
    "### DQN block"
   ]
  },
  {
   "cell_type": "code",
   "execution_count": 7,
   "metadata": {},
   "outputs": [
    {
     "name": "stdout",
     "output_type": "stream",
     "text": [
      "WARNING:tensorflow:AutoGraph could not transform <bound method Dense.call of <keras.layers.core.Dense object at 0x000001CF87405910>> and will run it as-is.\n",
      "Please report this to the TensorFlow team. When filing the bug, set the verbosity to 10 (on Linux, `export AUTOGRAPH_VERBOSITY=10`) and attach the full output.\n",
      "Cause: invalid syntax (tmp9qg411c2.py, line 48)\n",
      "To silence this warning, decorate the function with @tf.autograph.experimental.do_not_convert\n",
      "WARNING: AutoGraph could not transform <bound method Dense.call of <keras.layers.core.Dense object at 0x000001CF87405910>> and will run it as-is.\n",
      "Please report this to the TensorFlow team. When filing the bug, set the verbosity to 10 (on Linux, `export AUTOGRAPH_VERBOSITY=10`) and attach the full output.\n",
      "Cause: invalid syntax (tmp9qg411c2.py, line 48)\n",
      "To silence this warning, decorate the function with @tf.autograph.experimental.do_not_convert\n",
      "Episode: 0 Total Reward: -71, epsilon: 0.3024044356690215\n",
      "Episode: 1 Total Reward: -232, epsilon: 0.24983705645845267\n",
      "Episode: 2 Total Reward: -73, epsilon: 0.19046145976502743\n",
      "Episode: 3 Total Reward: -279, epsilon: 0.20230002712877712\n",
      "Episode: 4 Total Reward: -154, epsilon: 0.3024044356690215\n",
      "Episode: 5 Total Reward: -114, epsilon: 0.18112695312597027\n",
      "Episode: 6 Total Reward: -158, epsilon: 0.23759255478829303\n",
      "Episode: 7 Total Reward: 24, epsilon: 0.24486529903492946\n",
      "Episode: 8 Total Reward: -311, epsilon: 0.232864462948006\n",
      "Episode: 9 Total Reward: -158, epsilon: 0.2170448966728076\n"
     ]
    }
   ],
   "source": [
    "for episode in range(Episodes):\r\n",
    "\r\n",
    "    # Call the environment\r\n",
    "    env = CabDriver()\r\n",
    "\r\n",
    "    # Call all the initialised variables of the environment\r\n",
    "    state_size = len(env.state_space)\r\n",
    "    action_size = len(env.action_space) + 1 # for no-ride\r\n",
    "    initial_state = env.state_init\r\n",
    "    current_state = env.state_init\r\n",
    "    #Call the DQN agent \r\n",
    "    agent = DQNAgent(state_size, action_size)\r\n",
    "    steps = 0 # cab driver starts with 0 trip hours\r\n",
    "    total_reward = 0\r\n",
    "    \r\n",
    "    while steps <= 24 * 30: # each episode is 30 days long\r\n",
    "        \r\n",
    "        # print(f'starting state...{steps}')\r\n",
    "        \r\n",
    "        # 1. Pick epsilon-greedy action from possible actions for the current state\r\n",
    "        action = agent.get_action(current_state)\r\n",
    "\r\n",
    "        # 2. Evaluate your reward and next state\r\n",
    "        state, action, reward, next_state, hours_of_trip = env.step(current_state, action, Time_matrix, steps)\r\n",
    "        # print(state, action, reward, next_state, hours_of_trip)\r\n",
    "\r\n",
    "        # 3. Append the experience to the memory\r\n",
    "        agent.append_sample(current_state, action, reward, next_state, hours_of_trip)\r\n",
    "        \r\n",
    "        # 4. Train the model by calling function agent.train_model\r\n",
    "        agent.train_model()\r\n",
    "\r\n",
    "        # Numer of days completed = steps, the episode ends when 30 days are completed\r\n",
    "        steps += hours_of_trip \r\n",
    "\r\n",
    "        current_state = next_state\r\n",
    "\r\n",
    "        # 5. Keep a track of rewards, Q-values, loss\r\n",
    "        total_reward += reward\r\n",
    "\r\n",
    "    #save the model \r\n",
    "    if episode % 50 == 0:\r\n",
    "        agent.model.save_weights(\"./models/supercabs.h5\")\r\n",
    "\r\n",
    "    print(f'Episode: {episode} Total Reward: {total_reward}, epsilon: {agent.epsilon}')\r\n",
    "        \r\n",
    "        "
   ]
  },
  {
   "cell_type": "markdown",
   "metadata": {},
   "source": [
    "### Tracking Convergence"
   ]
  },
  {
   "cell_type": "markdown",
   "metadata": {},
   "source": [
    "#### Epsilon-decay sample function"
   ]
  },
  {
   "cell_type": "markdown",
   "metadata": {},
   "source": [
    "<div class=\"alert alert-block alert-info\">\n",
    "Try building a similar epsilon-decay function for your model.\n",
    "</div>"
   ]
  },
  {
   "cell_type": "code",
   "execution_count": 8,
   "metadata": {},
   "outputs": [],
   "source": [
    "time = np.arange(0,10000)\n",
    "epsilon = []\n",
    "for i in range(0,10000):\n",
    "    epsilon.append(0 + (1 - 0) * np.exp(-0.0009*i))"
   ]
  },
  {
   "cell_type": "code",
   "execution_count": 9,
   "metadata": {},
   "outputs": [
    {
     "data": {
      "image/png": "[encoded data removed]",
      "text/plain": [
       "<Figure size 432x288 with 1 Axes>"
      ]
     },
     "metadata": {
      "needs_background": "light"
     },
     "output_type": "display_data"
    }
   ],
   "source": [
    "plt.plot(time, epsilon)\n",
    "plt.show()"
   ]
  },
  {
   "cell_type": "code",
   "execution_count": null,
   "metadata": {},
   "outputs": [],
   "source": []
  }
 ],
 "metadata": {
  "interpreter": {
   "hash": "63fd5069d213b44bf678585dea6b12cceca9941eaf7f819626cde1f2670de90d"
  },
  "kernelspec": {
   "display_name": "Python 3.9.1 64-bit",
   "name": "python3"
  },
  "language_info": {
   "codemirror_mode": {
    "name": "ipython",
    "version": 3
   },
   "file_extension": ".py",
   "mimetype": "text/x-python",
   "name": "python",
   "nbconvert_exporter": "python",
   "pygments_lexer": "ipython3",
   "version": "3.9.1"
  },
  "metadata": {
   "interpreter": {
    "hash": "63fd5069d213b44bf678585dea6b12cceca9941eaf7f819626cde1f2670de90d"
   }
  }
 },
 "nbformat": 4,
 "nbformat_minor": 2
}